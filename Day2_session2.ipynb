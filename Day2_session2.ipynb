{
  "nbformat": 4,
  "nbformat_minor": 0,
  "metadata": {
    "colab": {
      "name": "Day2-session2.ipynb",
      "provenance": [],
      "authorship_tag": "ABX9TyMgMJ3Yy0pTW/bkhDQJdocE",
      "include_colab_link": true
    },
    "kernelspec": {
      "name": "python3",
      "display_name": "Python 3"
    }
  },
  "cells": [
    {
      "cell_type": "markdown",
      "metadata": {
        "id": "view-in-github",
        "colab_type": "text"
      },
      "source": [
        "<a href=\"https://colab.research.google.com/github/Prathyusha2210/AI-ML-Madblocks-BootCamp/blob/main/Day2_session2.ipynb\" target=\"_parent\"><img src=\"https://colab.research.google.com/assets/colab-badge.svg\" alt=\"Open In Colab\"/></a>"
      ]
    },
    {
      "cell_type": "markdown",
      "metadata": {
        "id": "FMR7TmOhheSX"
      },
      "source": [
        "# Generating our own Data Set"
      ]
    },
    {
      "cell_type": "code",
      "metadata": {
        "id": "3H9wkfSohdI7"
      },
      "source": [
        ""
      ],
      "execution_count": null,
      "outputs": []
    },
    {
      "cell_type": "markdown",
      "metadata": {
        "id": "Ks3E36DlieXQ"
      },
      "source": [
        "#sudo nano sensor.py\n",
        "#read data from arduino hardware and upload data to google colab\n",
        "#google colab - google compute engine\n",
        "#arduino hardware - (laptop/rpi/esp32) 3 sensors (temp, humidity, moisture)\n",
        "#ESP8266 - only one analog line\n",
        "\n",
        "import serial #arduino is connected through USB cable\n",
        "\n",
        "#create a serial object\n",
        "ser = serial.serial('')\n",
        "\n",
        "\n",
        "\n",
        "\n",
        "\n",
        "\n",
        "\n",
        "\n",
        "\n",
        "\n",
        "\n",
        "\n"
      ]
    },
    {
      "cell_type": "markdown",
      "metadata": {
        "id": "S3JwyPQ6luGb"
      },
      "source": [
        "# MQTT Protocol\n",
        "\n",
        "MQTT Protocol is a light-weight communication protocol. It can work in low bandwidth of internet, and has low code footprint.\n",
        "\n",
        "Pub - Publisher - Sender </br>\n",
        "Sub - Subscriber - Receiver </br>\n",
        "Broker - server - Global </br>\n",
        "\n",
        "Pub -> Broker ->Sub </br>\n",
        "1 Pub -> Many Sub </br>\n",
        "\n",
        "Arduino -> Laptop (RPi/ ESP32)\n",
        "Broker -> Subscriber "
      ]
    }
  ]
}