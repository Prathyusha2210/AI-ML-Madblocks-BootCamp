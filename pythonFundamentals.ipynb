{
  "nbformat": 4,
  "nbformat_minor": 0,
  "metadata": {
    "colab": {
      "name": "Untitled0.ipynb",
      "provenance": [],
      "collapsed_sections": [],
      "authorship_tag": "ABX9TyNkX2Rr7Ty34TrvSESQS0aX",
      "include_colab_link": true
    },
    "kernelspec": {
      "name": "python3",
      "display_name": "Python 3"
    }
  },
  "cells": [
    {
      "cell_type": "markdown",
      "metadata": {
        "id": "view-in-github",
        "colab_type": "text"
      },
      "source": [
        "<a href=\"https://colab.research.google.com/github/Prathyusha2210/AI-ML-Madblocks-BootCamp/blob/main/pythonFundamentals.ipynb\" target=\"_parent\"><img src=\"https://colab.research.google.com/assets/colab-badge.svg\" alt=\"Open In Colab\"/></a>"
      ]
    },
    {
      "cell_type": "code",
      "metadata": {
        "colab": {
          "base_uri": "https://localhost:8080/"
        },
        "id": "HRyrDvLSYp_M",
        "outputId": "f5bae5ba-5481-411f-bbbc-8d7bd9adfc6c"
      },
      "source": [
        "a = 'hello'\r\n",
        "#to modify a to 'bello' we can 1. Re-assign the value 2. Use string slicing 3.change to lists \r\n",
        "#As strings are immutable\r\n",
        "a = 'bello'\r\n",
        "print(a)\r\n",
        "a = 'b' + a[1:]\r\n",
        "print(a)\r\n",
        "a = list(a)\r\n",
        "a[0] = 'b'\r\n",
        "print(''.join(a))"
      ],
      "execution_count": 3,
      "outputs": [
        {
          "output_type": "stream",
          "text": [
            "bello\n",
            "bello\n",
            "bello\n"
          ],
          "name": "stdout"
        }
      ]
    },
    {
      "cell_type": "markdown",
      "metadata": {
        "id": "GFRiAffjcxe9"
      },
      "source": [
        "##string slicing\r\n",
        "a[start:stop:step]\r\n",
        "\r\n"
      ]
    },
    {
      "cell_type": "code",
      "metadata": {
        "colab": {
          "base_uri": "https://localhost:8080/"
        },
        "id": "lDb8remRcyoY",
        "outputId": "cd584fac-501d-4f40-aa18-1eab230798e2"
      },
      "source": [
        "a='hello'\r\n",
        "b=2\r\n",
        "print(str(b)+a) #type casting important else : Type Error"
      ],
      "execution_count": 24,
      "outputs": [
        {
          "output_type": "stream",
          "text": [
            "2hello\n"
          ],
          "name": "stdout"
        }
      ]
    },
    {
      "cell_type": "code",
      "metadata": {
        "colab": {
          "base_uri": "https://localhost:8080/"
        },
        "id": "iLKQUc1Xc51b",
        "outputId": "2ca2334a-ffc7-4545-c214-a0f575f0f7e8"
      },
      "source": [
        "a = 'Prathyusha'\r\n",
        "if (a == a[::-1]):\r\n",
        "  print('is Palindrome')\r\n",
        "else:\r\n",
        "  print('not Palindrome')\r\n",
        "  \r\n",
        " \r\n",
        "\r\n",
        "  \r\n",
        "\r\n"
      ],
      "execution_count": 49,
      "outputs": [
        {
          "output_type": "stream",
          "text": [
            "not Palindrome\n"
          ],
          "name": "stdout"
        }
      ]
    },
    {
      "cell_type": "code",
      "metadata": {
        "id": "BStGibk_opYx"
      },
      "source": [
        ""
      ],
      "execution_count": null,
      "outputs": []
    }
  ]
}